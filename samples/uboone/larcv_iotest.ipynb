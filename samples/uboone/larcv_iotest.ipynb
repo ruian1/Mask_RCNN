{
 "cells": [
  {
   "cell_type": "code",
   "execution_count": null,
   "metadata": {
    "collapsed": false
   },
   "outputs": [],
   "source": [
    "from larcv import larcv\n",
    "from sklearn.cluster import DBSCAN\n",
    "import numpy as np\n",
    "\n",
    "from sklearn import metrics\n",
    "from sklearn.datasets.samples_generator import make_blobs\n",
    "from sklearn.preprocessing import StandardScaler\n",
    "import matplotlib.pyplot as plt\n",
    "%matplotlib inline"
   ]
  },
  {
   "cell_type": "code",
   "execution_count": null,
   "metadata": {
    "collapsed": false
   },
   "outputs": [],
   "source": [
    "input_file=\"/data/dayajun/toymodel/uboone/train_data/75_200.root\"\n",
    "iom=larcv.IOManager(0)\n",
    "iom.add_in_file(input_file)\n",
    "iom.initialize()"
   ]
  },
  {
   "cell_type": "code",
   "execution_count": null,
   "metadata": {
    "collapsed": false
   },
   "outputs": [],
   "source": [
    "entry =0\n",
    "iom.read_entry(entry, True)\n",
    "ev_image    = iom.get_data(larcv.kProductImage2D,\"wire\")\n",
    "ev_roi      = iom.get_data(larcv.kProductROI,\"rui\")\n",
    "ev_instance = iom.get_data(larcv.kProductImage2D,\"segment_rui\")"
   ]
  },
  {
   "cell_type": "code",
   "execution_count": null,
   "metadata": {
    "collapsed": false
   },
   "outputs": [],
   "source": [
    "image = ev_image.Image2DArray()[2]\n",
    "image.threshold(10,0)\n",
    "test = larcv.as_ndarray(image)"
   ]
  },
  {
   "cell_type": "code",
   "execution_count": null,
   "metadata": {
    "collapsed": false,
    "scrolled": false
   },
   "outputs": [],
   "source": [
    "fig,ax = plt.subplots(1,1,figsize=(16,12))\n",
    "ax.imshow(test,origin=\"lower\")\n",
    "# ax.imshow(test)"
   ]
  },
  {
   "cell_type": "code",
   "execution_count": null,
   "metadata": {
    "collapsed": false,
    "scrolled": true
   },
   "outputs": [],
   "source": [
    "for x in range(512):\n",
    "    for y in range(512):\n",
    "        if test[x,y]>0:\n",
    "            print  x,y,test[x,y]\n",
    "            break\n",
    "    else:\n",
    "        continue\n",
    "    break\n"
   ]
  },
  {
   "cell_type": "code",
   "execution_count": null,
   "metadata": {
    "collapsed": false
   },
   "outputs": [],
   "source": [
    "X=np.argwhere(test>0)"
   ]
  },
  {
   "cell_type": "code",
   "execution_count": null,
   "metadata": {
    "collapsed": false
   },
   "outputs": [],
   "source": [
    "# def get_width(xy):\n",
    "#     x=(np.max(np.array(xy[:,1]))-np.min(np.array(xy[:,1])))/2.\n",
    "#     y=(np.max(np.array(xy[:,0]))-np.min(np.array(xy[:,0])))/2.\n",
    "#     return x,y\n",
    "\n",
    "def get_width(xy):\n",
    "    delta_x=(np.max(xy[:,1])-np.min(xy[:,1]))\n",
    "    delta_y=(np.max(xy[:,0])-np.min(xy[:,0]))\n",
    "    return (delta_x<10 and delta_y<10)"
   ]
  },
  {
   "cell_type": "code",
   "execution_count": null,
   "metadata": {
    "collapsed": false,
    "scrolled": false
   },
   "outputs": [],
   "source": [
    "db = DBSCAN(eps=4, min_samples=10).fit(X)\n",
    "# db = DBSCAN(eps=10, min_samples=10, metric=mydistance).fit(test)\n",
    "\n",
    "core_samples_mask = np.zeros_like(db.labels_, dtype=bool)\n",
    "core_samples_mask[db.core_sample_indices_] = True\n",
    "labels = db.labels_\n",
    "\n",
    "# Number of clusters in labels, ignoring noise if present.\n",
    "n_clusters_ = len(set(labels)) - (1 if -1 in labels else 0)\n",
    "n_noise_ = list(labels).count(-1)\n",
    "\n",
    "print('Estimated number of clusters: %d' % n_clusters_)\n",
    "print('Estimated number of noise points: %d' % n_noise_)\n",
    "# print(\"Homogeneity: %0.3f\" % metrics.homogeneity_score(labels_true, labels))\n",
    "# print(\"Completeness: %0.3f\" % metrics.completeness_score(labels_true, labels))\n",
    "# print(\"V-measure: %0.3f\" % metrics.v_measure_score(labels_true, labels))\n",
    "# print(\"Adjusted Rand Index: %0.3f\"\n",
    "#       % metrics.adjusted_rand_score(labels_true, labels))\n",
    "# print(\"Adjusted Mutual Information: %0.3f\"\n",
    "#       % metrics.adjusted_mutual_info_score(labels_true, labels))\n",
    "print(\"Silhouette Coefficient: %0.3f\"\n",
    "      % metrics.silhouette_score(X, labels))\n",
    "\n",
    "# #############################################################################\n",
    "# Plot result\n",
    "\n",
    "# Black removed and is used for noise instead.\n",
    "unique_labels = set(labels)\n",
    "colors = [plt.cm.Spectral(each)\n",
    "          for each in np.linspace(0, 1, len(unique_labels))]\n",
    "fig,ax=plt.subplots(1,1,figsize=(8,6))\n",
    "    \n",
    "for k, col in zip(unique_labels, colors):\n",
    "    if k == -1:\n",
    "        # Black used for noise.\n",
    "        col = [0, 0, 0, 1]\n",
    "\n",
    "    class_member_mask = (labels == k)\n",
    "\n",
    "    xy = X[class_member_mask & core_samples_mask]\n",
    "    if (k>=0): print xy2bb(xy)\n",
    "    \n",
    "#Here we ask to skip the cluster if the width is smaller than 5 pixel on both x & y axis\n",
    "#     if ((k != -1) and get_width(xy)): continue\n",
    "    ax.plot(xy[:, 1], xy[:, 0], 'o', markerfacecolor=tuple(col),\n",
    "             markeredgecolor='k', markersize=5)\n",
    "\n",
    "    xy = X[class_member_mask & ~core_samples_mask]\n",
    "    ax.plot(xy[:, 1], xy[:, 0], 'o', markerfacecolor=tuple(col),\n",
    "             markeredgecolor='k', markersize=2)\n",
    "\n",
    "ax.set_xlim(0,512)\n",
    "ax.set_ylim(0,512)\n",
    "plt.title('Estimated number of clusters: %d' % n_clusters_)\n",
    "plt.show()"
   ]
  },
  {
   "cell_type": "code",
   "execution_count": null,
   "metadata": {
    "collapsed": true
   },
   "outputs": [],
   "source": [
    "def xy2bb(xy):\n",
    "    tl=[np.min(xy[:,1]), np.max(xy[:,0])]\n",
    "    tr=[np.max(xy[:,1]), np.max(xy[:,0])]\n",
    "    bl=[np.min(xy[:,1]), np.min(xy[:,0])]\n",
    "    br=[np.max(xy[:,1]), np.min(xy[:,0])]\n",
    "    \n",
    "    \n",
    "    return tl,tr,bl,br"
   ]
  },
  {
   "cell_type": "code",
   "execution_count": null,
   "metadata": {
    "collapsed": false
   },
   "outputs": [],
   "source": [
    "this_roi=larcv.ROI()\n",
    "origin=larcv.Point2D(1,2)\n",
    "\n",
    "this_imagemeta=larcv.ImageMeta()\n",
    "\n",
    "this_roi.PdgCode(11)\n"
   ]
  },
  {
   "cell_type": "code",
   "execution_count": null,
   "metadata": {
    "collapsed": false
   },
   "outputs": [],
   "source": [
    "print origin.x, origin.y"
   ]
  },
  {
   "cell_type": "code",
   "execution_count": null,
   "metadata": {
    "collapsed": true
   },
   "outputs": [],
   "source": []
  },
  {
   "cell_type": "code",
   "execution_count": null,
   "metadata": {
    "collapsed": false
   },
   "outputs": [],
   "source": [
    "for x in xrange(10):\n",
    "    for y in xrange(10):\n",
    "        print x*y\n",
    "        if x*y > 50:\n",
    "            break\n",
    "    else:\n",
    "        continue  # only executed if the inner loop did NOT break\n",
    "    break  # only executed if the inner loop DID break"
   ]
  },
  {
   "cell_type": "code",
   "execution_count": null,
   "metadata": {
    "collapsed": true
   },
   "outputs": [],
   "source": []
  }
 ],
 "metadata": {
  "kernelspec": {
   "display_name": "Python 2",
   "language": "python",
   "name": "python2"
  },
  "language_info": {
   "codemirror_mode": {
    "name": "ipython",
    "version": 2
   },
   "file_extension": ".py",
   "mimetype": "text/x-python",
   "name": "python",
   "nbconvert_exporter": "python",
   "pygments_lexer": "ipython2",
   "version": "2.7.12"
  }
 },
 "nbformat": 4,
 "nbformat_minor": 0
}
