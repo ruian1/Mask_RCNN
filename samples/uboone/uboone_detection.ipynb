{
 "cells": [
  {
   "cell_type": "code",
   "execution_count": null,
   "metadata": {
    "collapsed": false
   },
   "outputs": [],
   "source": [
    "import os, sys, gc\n",
    "import ROOT\n",
    "from larcv import larcv\n",
    "import numpy as np\n",
    "import matplotlib.pyplot as plt\n",
    "from matplotlib import gridspec\n",
    "%matplotlib inline\n",
    "\n",
    "\n",
    "def image_modify (img):\n",
    "    img_arr = np.array(img.as_vector())\n",
    "    img_arr = np.where(img_arr<10,0,img_arr)\n",
    "#     img_arr = np.where(img_arr>cfg.adc_hi,cfg.adc_hi,img_arr)\n",
    "    img_arr = img_arr.reshape(1,img_arr.size).astype(np.float32)\n",
    "\n",
    "    return img_arr\n",
    "\n",
    "iom  = larcv.IOManager(larcv.IOManager.kREAD)\n",
    "iom.add_in_file(\"/data/dayajun/workshop_2018july/cocktail_lcv.root\")\n",
    "iom.initialize()\n",
    "\n",
    "RUN=1\n",
    "SUBRUN=1898\n",
    "EVENT=94881\n",
    "VTXID=0\n",
    "\n",
    "input_image=None\n",
    "\n",
    "for entry in xrange(iom.get_n_entries()):\n",
    "    iom.read_entry(entry)                                                                       \n",
    "\n",
    "    ev_pgr = iom.get_data(larcv.kProductPGraph,\"inter_par\")\n",
    "    ev_pix_int = iom.get_data(larcv.kProductPixel2D,\"inter_int_pixel\")\n",
    "    ev_pix_pix = iom.get_data(larcv.kProductPixel2D,\"inter_img_pixel\")\n",
    "\n",
    "    if not (ev_pix_int.run()==RUN and ev_pix_int.subrun()==SUBRUN and  ev_pix_int.event()==EVENT):continue\n",
    "    print '<<<<<<<<'\n",
    "    print 'run, subrun, event',ev_pix_int.run(),ev_pix_int.subrun(),ev_pix_int.event()\n",
    "\n",
    "    for ix,pgraph in enumerate(ev_pgr.PGraphArray()):\n",
    "        if not (ix == VTXID): continue\n",
    "        print \"@pgid=%d\" % ix\n",
    "\n",
    "        pixel2d_vv_int = ev_pix_int.Pixel2DClusterArray()\n",
    "        pixel2d_vv_pix = ev_pix_pix.Pixel2DClusterArray()\n",
    "        cluster_vv_int = ev_pix_int.ClusterMetaArray()\n",
    "\n",
    "        parid = pgraph.ClusterIndexArray().front()\n",
    "        roi0 = pgraph.ParticleArray().front()\n",
    "\n",
    "        print 'There are ', pgraph.ParticleArray().size(), 'clusters.'\n",
    "\n",
    "        x = roi0.X()\n",
    "        y = roi0.Y()\n",
    "        z = roi0.Z()\n",
    "\n",
    "        y_2d_plane_0 = ROOT.Double()\n",
    "\n",
    "        for plane in xrange(3):\n",
    "\n",
    "            if plane == 1: continue\n",
    "\n",
    "            if plane == 0: continue\n",
    "\n",
    "            print \"@plane=%d\" % plane\n",
    "            \n",
    "            if pixel2d_vv_int.empty()==True: continue\n",
    "\n",
    "#             pixel2d_v_int = pixel2d_vv_int.at(plane)\n",
    "#             pixel2d_int   = pixel2d_v_int.at(ix)\n",
    "            \n",
    "#             img_int = larcv.cluster_to_image2d(pixel2d_int,512, 512)\n",
    "#             img_arr_int = image_modify(img_int)\n",
    "\n",
    "#             img_arr_=img_arr_int.reshape(512,512)\n",
    "\n",
    "            pixel2d_v_pix = pixel2d_vv_pix.at(plane)\n",
    "            pixel2d_pix   = pixel2d_v_pix.at(ix)\n",
    "            \n",
    "            img_pix = larcv.cluster_to_image2d(pixel2d_pix,512, 512)\n",
    "            img_arr_pix = image_modify(img_pix)\n",
    "\n",
    "            img_arr_=img_arr_pix.reshape(512,512)\n",
    "            \n",
    "            fig,ax=plt.subplots(1,1,figsize=(7,7))\n",
    "            ax.imshow(img_arr_, origin='lower')\n",
    "            input_image=img_arr_\n",
    "    \n",
    "    break"
   ]
  },
  {
   "cell_type": "code",
   "execution_count": null,
   "metadata": {
    "collapsed": true
   },
   "outputs": [],
   "source": []
  },
  {
   "cell_type": "code",
   "execution_count": 1,
   "metadata": {
    "collapsed": false
   },
   "outputs": [
    {
     "data": {
      "application/javascript": [
       "require(['codemirror/mode/clike/clike'], function(Clike) { console.log('ROOTaaS - C++ CodeMirror module loaded'); });"
      ]
     },
     "metadata": {},
     "output_type": "display_data"
    },
    {
     "data": {
      "application/javascript": [
       "IPython.CodeCell.config_defaults.highlight_modes['magic_text/x-c++src'] = {'reg':[/^%%cpp/]};"
      ]
     },
     "metadata": {},
     "output_type": "display_data"
    },
    {
     "name": "stdout",
     "output_type": "stream",
     "text": [
      "Welcome to ROOTaaS 6.06/06\n"
     ]
    },
    {
     "data": {
      "text/plain": [
       "True"
      ]
     },
     "execution_count": 1,
     "metadata": {},
     "output_type": "execute_result"
    },
    {
     "name": "stdout",
     "output_type": "stream",
     "text": [
      "    \u001b[95m[NORMAL]\u001b[00m \u001b[0m \u001b[94m<IOManager::prepare_input>\u001b[00m Opening a file in READ mode: /data/dayajun/toymodel/uboone/train_data/75_200.root\r\n",
      "    \u001b[95m[NORMAL]\u001b[00m \u001b[0m \u001b[94m<IOManager::initialize>\u001b[00m Prepared input with 9992 entries...\r\n"
     ]
    }
   ],
   "source": [
    "import os, sys, gc\n",
    "import ROOT\n",
    "from larcv import larcv\n",
    "import numpy as np\n",
    "import matplotlib.pyplot as plt\n",
    "from matplotlib import gridspec\n",
    "%matplotlib inline\n",
    "\n",
    "\n",
    "def image_modify (img):\n",
    "    img_arr = np.array(img.as_vector())\n",
    "    img_arr = np.where(img_arr<10,0,img_arr)\n",
    "#     img_arr = np.where(img_arr>cfg.adc_hi,cfg.adc_hi,img_arr)\n",
    "    img_arr = img_arr.reshape(1,img_arr.size).astype(np.float32)\n",
    "\n",
    "    return img_arr\n",
    "\n",
    "iom  = larcv.IOManager(larcv.IOManager.kREAD)\n",
    "iom.add_in_file(\"/data/dayajun/toymodel/uboone/train_data/75_200.root\")\n",
    "iom.initialize()"
   ]
  },
  {
   "cell_type": "code",
   "execution_count": 6,
   "metadata": {
    "collapsed": false
   },
   "outputs": [
    {
     "name": "stdout",
     "output_type": "stream",
     "text": [
      "2\n",
      "(48.0, 217.66666666666666)\n",
      "2\n",
      "(116.0, 171.33333333333334)\n"
     ]
    }
   ],
   "source": [
    "iom.read_entry(259)                                                                       \n",
    "\n",
    "ev_roi = iom.get_data(larcv.kProductROI,\"rui\")\n",
    "ev_image = iom.get_data(larcv.kProductImage2D,\"wire\")\n",
    "\n",
    "ev_roi =ev_roi.ROIArray()\n",
    "ev_image=ev_image.Image2DArray()\n",
    "\n",
    "for ids in xrange(ev_roi.size()):\n",
    "    image_meta = ev_image[2].meta()\n",
    "    bb = ev_roi[ids].BB()[2]\n",
    "    new_bl = (abs(image_meta.tl().x-bb.bl().x), abs((image_meta.tl().y-bb.bl().y)/6))\n",
    "    print ev_roi.size()\n",
    "    print new_bl"
   ]
  },
  {
   "cell_type": "code",
   "execution_count": 4,
   "metadata": {
    "collapsed": false
   },
   "outputs": [],
   "source": [
    "# fig,ax=plt.subplots(1,1,figsize=(7,7))\n",
    "# ax.imshow(input_image.reshape(512,512),origin='lowera"
   ]
  },
  {
   "cell_type": "code",
   "execution_count": 20,
   "metadata": {
    "collapsed": false
   },
   "outputs": [],
   "source": [
    "for x in xrange(9992):\n",
    "    iom.read_entry(x)                                                                       \n",
    "    ev_roi = iom.get_data(larcv.kProductROI,\"rui\")\n",
    "    for j, roi in enumerate(ev_roi.ROIArray()):\n",
    "        #if j==0 : continue # First ROI name null with producer of iseg                                                     \n",
    "        if roi.PdgCode()==16: continue #nu_tau                                                                              \n",
    "        if roi.PdgCode()==111: continue #pi_zero...                                                                         \n",
    "        if roi.PdgCode()==321: continue #Kplus...                                                                           \n",
    "        if roi.PdgCode()==2112: continue #Delta...                                                                          \n",
    "        if roi.PdgCode()==1000010020: continue #Dutron...                                                                   \n",
    "        if roi.PdgCode()==1000010030: continue #Tritium...                                                                  \n",
    "        if roi.PdgCode()==1000010040: continue #Alpha...                                                                    \n",
    "        if roi.PdgCode()==1000020030: continue #Alpha...                                                                    \n",
    "        if roi.PdgCode()==1000020040: continue #Alpha...\n",
    "        if not roi.BB().size()==3 : \n",
    "            print 'fcukkk,,', x, roi.BB().size()"
   ]
  },
  {
   "cell_type": "code",
   "execution_count": null,
   "metadata": {
    "collapsed": true
   },
   "outputs": [],
   "source": []
  }
 ],
 "metadata": {
  "kernelspec": {
   "display_name": "Python 2",
   "language": "python",
   "name": "python2"
  },
  "language_info": {
   "codemirror_mode": {
    "name": "ipython",
    "version": 2
   },
   "file_extension": ".py",
   "mimetype": "text/x-python",
   "name": "python",
   "nbconvert_exporter": "python",
   "pygments_lexer": "ipython2",
   "version": "2.7.6"
  }
 },
 "nbformat": 4,
 "nbformat_minor": 0
}
