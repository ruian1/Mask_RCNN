{
 "cells": [
  {
   "cell_type": "code",
   "execution_count": null,
   "metadata": {
    "collapsed": false
   },
   "outputs": [],
   "source": [
    "import pandas as pd\n",
    "# df=pd.read_pickle('production/detection_score_7.pkl')\n",
    "df=pd.read_pickle('production/detection_score_0.pkl')\n",
    "\n",
    "import numpy as np\n",
    "import matplotlib.pyplot as plt\n",
    "%matplotlib inline"
   ]
  },
  {
   "cell_type": "code",
   "execution_count": null,
   "metadata": {
    "collapsed": false
   },
   "outputs": [],
   "source": [
    "print df.index.size"
   ]
  },
  {
   "cell_type": "code",
   "execution_count": null,
   "metadata": {
    "collapsed": false
   },
   "outputs": [],
   "source": [
    "print df.columns"
   ]
  },
  {
   "cell_type": "code",
   "execution_count": null,
   "metadata": {
    "collapsed": true
   },
   "outputs": [],
   "source": [
    "def count_box(bboxes):\n",
    "    return len(bboxes)"
   ]
  },
  {
   "cell_type": "code",
   "execution_count": null,
   "metadata": {
    "collapsed": false
   },
   "outputs": [],
   "source": [
    "df['em_bbox_count_t']=df.apply(lambda row: count_box(row.em_bboxes_t) , axis=1)\n",
    "df['em_bbox_count_r']=df.apply(lambda row: count_box(row.em_bboxes_r) , axis=1)\n",
    "df['mu_bbox_count_t']=df.apply(lambda row: count_box(row.mu_bboxes_t) , axis=1)\n",
    "df['mu_bbox_count_r']=df.apply(lambda row: count_box(row.mu_bboxes_r) , axis=1)\n"
   ]
  },
  {
   "cell_type": "code",
   "execution_count": null,
   "metadata": {
    "collapsed": false
   },
   "outputs": [],
   "source": [
    "fig, ax = plt.subplots(1,1,figsize=(8,6))\n",
    "# ax.patch.set_facecolor('white')\n",
    "xbins = np.arange(0,12,1)\n",
    "ybins = np.arange(0,12,1)\n",
    "print xbins\n",
    "h, xedges, yedges, img = ax.hist2d(df.em_bbox_count_r.values, df.em_bbox_count_t.values,\\\n",
    "                                   cmap='rainbow',bins=(xbins,ybins),cmin=0.1)\n",
    "print img\n",
    "print ax\n",
    "# plt.colorbar(img, ax)\n",
    "# plt.plot()\n",
    "fig.colorbar(img)\n",
    "ax.set_xlabel('Reconstructed bboxes count', fontsize=16)\n",
    "ax.set_ylabel('True bboxes count', fontsize=16)\n",
    "ax.set_title('Electrons', fontsize=16)"
   ]
  },
  {
   "cell_type": "code",
   "execution_count": null,
   "metadata": {
    "collapsed": false
   },
   "outputs": [],
   "source": [
    "fig, ax = plt.subplots(1,1,figsize=(8,6))\n",
    "# ax.patch.set_facecolor('white')\n",
    "xbins = np.arange(0,5,1)\n",
    "ybins = np.arange(0,5,1)\n",
    "print xbins\n",
    "h, xedges, yedges, img = ax.hist2d(df.mu_bbox_count_r.values, df.mu_bbox_count_t.values,\\\n",
    "                                   cmap='rainbow',bins=(xbins,ybins),cmin=0.1)\n",
    "print img\n",
    "print ax\n",
    "# plt.colorbar(img, ax)\n",
    "# plt.plot()\n",
    "fig.colorbar(img)\n",
    "ax.set_xlabel('Reconstructed bboxes count', fontsize=16)\n",
    "ax.set_ylabel('True bboxes count', fontsize=16)\n",
    "ax.set_title('Muons', fontsize=16)"
   ]
  },
  {
   "cell_type": "code",
   "execution_count": null,
   "metadata": {
    "collapsed": false
   },
   "outputs": [],
   "source": [
    "fig, ax = plt.subplots(1,1,figsize=(8,6))\n",
    "# ax.patch.set_facecolor('white')\n",
    "xbins = np.arange(0,10,1)\n",
    "ybins = np.arange(0,4,1)\n",
    "\n",
    "print xbins\n",
    "print ybins\n",
    "h, xedges, yedges, img = ax.hist2d(df[(df.true_n_mu>0) & (df.true_n_em>0)].em_bbox_count_r.values, \\\n",
    "                                   df[(df.true_n_mu>0) & (df.true_n_em>0)].mu_bbox_count_r.values,\\\n",
    "                                   cmap='rainbow',bins=(xbins,ybins),cmin=0.1)\n",
    "print img\n",
    "print ax\n",
    "# plt.colorbar(img, ax)\n",
    "# plt.plot()\n",
    "fig.colorbar(img)\n",
    "ax.set_xlabel('Reconstructed bboxes count', fontsize=16)\n",
    "ax.set_ylabel('True bboxes count', fontsize=16)\n",
    "ax.set_title('Electrons', fontsize=16)\n",
    "ax.set_yticks(ybins)"
   ]
  },
  {
   "cell_type": "code",
   "execution_count": null,
   "metadata": {
    "collapsed": false
   },
   "outputs": [],
   "source": [
    "left, width = 0.1, 0.66\n",
    "bottom, height = 0.1, 0.65\n",
    "bottom_h = left_h = left + width + 0.05\n",
    "\n",
    "rect_scatter = [left, bottom, width, height]\n",
    "rect_histx = [left, bottom_h, width, 0.2]\n",
    "rect_histy = [left_h, bottom, 0.2, height]\n",
    "\n",
    "from matplotlib.ticker import NullFormatter\n",
    "nullfmt = NullFormatter()         # no labels\n",
    "\n",
    "\n",
    "# start with a rectangular Figure\n",
    "plt.figure(1, figsize=(8, 8))\n",
    "\n",
    "axScatter = plt.axes(rect_scatter)\n",
    "axHistx = plt.axes(rect_histx)\n",
    "axHisty = plt.axes(rect_histy)\n",
    "# axHistx.xaxis.set_major_formatter(nullfmt)\n",
    "# axHisty.yaxis.set_major_formatter(nullfmt)\n",
    "\n",
    "\n",
    "axScatter.hist2d(df[(df.true_n_mu>0) & (df.true_n_em>0)].em_bbox_count_r.values, \\\n",
    "                 df[(df.true_n_mu>0) & (df.true_n_em>0)].mu_bbox_count_r.values,\\\n",
    "                 cmap='rainbow',bins=(xbins,ybins),cmin=0.1)\n",
    "axScatter.set_yticks(ybins)\n",
    "axHistx.hist(df[(df.true_n_mu>0) & (df.true_n_em>0)].em_bbox_count_r.values, bins=xbins,\\\n",
    "            color='red', edgecolor='black')\n",
    "axHisty.hist(df[(df.true_n_mu>0) & (df.true_n_em>0)].mu_bbox_count_r.values, bins=ybins, orientation='horizontal',\\\n",
    "            color='blue', edgecolor='black')\n",
    "axHistx.set_xticks(xbins)\n",
    "axHisty.set_yticks(ybins)\n",
    "axHistx.set_title('Reconstructed electron rois')\n",
    "axHisty.set_title('Reconstructed muon rois')"
   ]
  },
  {
   "cell_type": "code",
   "execution_count": null,
   "metadata": {
    "collapsed": false
   },
   "outputs": [],
   "source": [
    "titles=['electron','gamma','muon','pion','proton']\n",
    "\n",
    "keys=['true_n_em','true_n_ga','true_n_mu','true_n_pi','true_n_pr']\n",
    "\n",
    "dic_titles={'true_n_em':'Electrons',\\\n",
    "            'true_n_ga':'Gammas',\\\n",
    "            'true_n_mu':'Muons',\\\n",
    "            'true_n_pi':'pions',\\\n",
    "            'true_n_pr':'Protons'}\n",
    "\n",
    "dic_npars={'true_n_em':'reco_n_em',\\\n",
    "           'true_n_ga':'reco_n_ga',\\\n",
    "           'true_n_mu':'reco_n_mu',\\\n",
    "           'true_n_pi':'reco_n_pi',\\\n",
    "           'true_n_pr':'reco_n_pr'}\n",
    "\n",
    "dic_scores={'true_n_em':'em_scores',\\\n",
    "            'true_n_ga':'ga_scores',\\\n",
    "            'true_n_mu':'mu_scores',\\\n",
    "            'true_n_pi':'pi_scores',\\\n",
    "            'true_n_pr':'pr_scores'}\n",
    "\n",
    "dic_iou={'true_n_em':'em_iou','true_n_ga':'ga_iou','true_n_mu':'mu_iou',\\\n",
    "         'true_n_pi':'pi_iou','true_n_pr':'pr_iou'}\n",
    "\n",
    "# ['true_n_em','true_n_ga','true_n_mu','true_n_pi','true_n_pr',\\\n",
    "#                   'reco_n_em','reco_n_ga','reco_n_mu','reco_n_pi','reco_n_pr',\\\n",
    "#                   'em_bboxes_t','ga_bboxes_t','mu_bboxes_t','pi_bboxes_t','pr_bboxes_t',\\\n",
    "#                   'em_bboxes_r','ga_bboxes_r','mu_bboxes_r','pi_bboxes_r','pr_bboxes_r',\\\n",
    "#                   'em_scores','ga_scores','mu_scores','pi_scores','pr_scores',\\\n",
    "#                   'em_iou','ga_iou','mu_iou','pi_iou','pr_iou']\n",
    "#  exec('output[output.%s>0].em_scores'%shit)\n",
    "\n",
    "# output[output.true_n_em>0].em_scores\n"
   ]
  },
  {
   "cell_type": "code",
   "execution_count": null,
   "metadata": {
    "collapsed": false,
    "scrolled": true
   },
   "outputs": [],
   "source": [
    "# em_scores=df[df.true_n_em>0].em_scores.values\n",
    "# # print em_scores\n",
    "\n",
    "# for x in xrange(100):\n",
    "#     print x, np.mean(em_scores[x])\n",
    "#     if x==70:\n",
    "#         print em_scores[x]"
   ]
  },
  {
   "cell_type": "code",
   "execution_count": null,
   "metadata": {
    "collapsed": true
   },
   "outputs": [],
   "source": []
  },
  {
   "cell_type": "code",
   "execution_count": null,
   "metadata": {
    "collapsed": true
   },
   "outputs": [],
   "source": []
  },
  {
   "cell_type": "code",
   "execution_count": null,
   "metadata": {
    "collapsed": false,
    "scrolled": true
   },
   "outputs": [],
   "source": [
    "for key in keys:\n",
    "    exec('scores=df[df.%s>0]'%key)\n",
    "    values_with=scores[dic_scores[key]].values\n",
    "    \n",
    "    exec('scores=df[df.%s==0]'%key)\n",
    "    values_with_no=scores[dic_scores[key]].values\n",
    "    \n",
    "    mean_values_with=np.array([ np.mean(one_list)  for one_list in values_with if len(one_list)>0])\n",
    "    mean_values_with_no=np.array([ np.mean(one_list)  for one_list in values_with_no if len(one_list)>0])\n",
    "\n",
    "    fig,(ax0,ax1)=plt.subplots(1,2,figsize=(12,6))\n",
    "    \n",
    "    bw=0.05\n",
    "    bins=np.arange(0,1+bw,bw)\n",
    "    \n",
    "    n1, b, p=ax0.hist(mean_values_with   , bins=bins, edgecolor='b')\n",
    "    n2, b, p=ax1.hist(mean_values_with_no, bins=bins, edgecolor='b')\n",
    "    ax0.set_title(dic_titles[key]+' Score')\n",
    "    ax1.set_title(dic_titles[key]+' Score')\n",
    "\n",
    "    n1s = np.zeros(20)\n",
    "    n2s = np.zeros(20)\n",
    "    n1s = [np.sum(n1[:x])/np.sum(n1) for x in xrange(21)]\n",
    "    n2s = [np.sum(n2[:x])/np.sum(n2) for x in xrange(21)]\n",
    "\n",
    "#     print n1s\n",
    "#     print n2s\n",
    "#     plt.legend(bbox_to_anchor=(0., 1.02, 1., .102), loc=3, ncol=3, mode=\"expand\", borderaxespad=0.)   \n",
    "\n",
    "    ax00 = ax0.twinx()\n",
    "    ax11 = ax1.twinx()\n",
    "\n",
    "    ax00.plot(np.linspace(0,1,21), n1s, color='r', lw=2)\n",
    "    ax11.plot(np.linspace(0,1,21), n2s, color='r', lw=2)\n",
    "\n",
    "    ax0.grid()\n",
    "    ax1.grid()"
   ]
  },
  {
   "cell_type": "code",
   "execution_count": null,
   "metadata": {
    "collapsed": false,
    "scrolled": false
   },
   "outputs": [],
   "source": [
    "idx=0\n",
    "for key in keys:\n",
    "    exec('scores=df[df.%s>0]'%key)\n",
    "    values_with=scores[dic_scores[key]].values\n",
    "    \n",
    "    exec('scores=df[df.%s==0]'%key)\n",
    "    values_with_no=scores[dic_scores[key]].values\n",
    "    \n",
    "    mean_values_with=np.array([ np.min(one_list)  for one_list in values_with if len(one_list)>0])\n",
    "    mean_values_with_no=np.array([ np.min(one_list)  for one_list in values_with_no if len(one_list)>0])\n",
    "\n",
    "    fig,ax0=plt.subplots(1,1,figsize=(8,6))\n",
    "    \n",
    "    bw=0.05\n",
    "    bins=np.arange(0,1+bw,bw)\n",
    "    \n",
    "    shit='electron'\n",
    "    \n",
    "    n1, b, p=ax0.hist(mean_values_with   , bins=bins, normed=1, alpha=0.6, label='Img with %s'%titles[idx])#, edgecolor='b')\n",
    "    n2, b, p=ax0.hist(mean_values_with_no, bins=bins, normed=1, alpha=0.6, label='Img w/o  %s'%titles[idx])#, edgecolor='b')\n",
    "    ax0.set_title(dic_titles[key]+' Score')\n",
    "\n",
    "    n1s = np.zeros(20)\n",
    "    n2s = np.zeros(20)\n",
    "    n1s = [np.sum(n1[:x])/np.sum(n1) for x in xrange(21)]\n",
    "    n2s = [np.sum(n2[:x])/np.sum(n2) for x in xrange(21)]\n",
    "\n",
    "#     print n1s\n",
    "#     print n2s\n",
    "#     plt.legend(bbox_to_anchor=(0., 1.02, 1., .102), loc=3, ncol=3, mode=\"expand\", borderaxespad=0.)   \n",
    "#     ax00 = ax0.twinx()\n",
    "#     ax00.plot(np.linspace(0,1,21), n1s, lw=2)#, color='r')\n",
    "#     ax00.plot(np.linspace(0,1,21), n2s, lw=2)\n",
    "\n",
    "    ax0.grid()\n",
    "    ax0.legend(fontsize=15)\n",
    "    idx+=1"
   ]
  },
  {
   "cell_type": "code",
   "execution_count": null,
   "metadata": {
    "collapsed": false,
    "scrolled": false
   },
   "outputs": [],
   "source": [
    "for key in keys:\n",
    "    exec('scores=df[df.%s>0]'%key)\n",
    "    values_with=scores[dic_iou[key]].values\n",
    "    \n",
    "    exec('scores=df[df.%s==0]'%key)\n",
    "    values_with_no=scores[dic_iou[key]].values\n",
    "#     mean_values=np.array([ np.mean(one_list)  for one_list in values if len(one_list)>0])\n",
    "    fig,ax0=plt.subplots(1,1,figsize=(7,6))\n",
    "    \n",
    "    bw=0.05\n",
    "    bins=np.arange(0.0001,1+bw,bw)\n",
    "    \n",
    "    n1, b, p=ax0.hist(values_with, bins=bins,edgecolor='b')\n",
    "    ax0.set_title(dic_titles[key]+' IOU')\n",
    "    ax0.grid()\n",
    "    "
   ]
  },
  {
   "cell_type": "code",
   "execution_count": null,
   "metadata": {
    "collapsed": false,
    "scrolled": false
   },
   "outputs": [],
   "source": [
    "print key\n",
    "\n",
    "df_em_with   =df[(df.true_n_em>0 ) & (df.reco_n_em>0)]\n",
    "df_em_with_no=df[(df.true_n_em==0) & (df.reco_n_em>0)]\n",
    "\n",
    "bw=1000\n",
    "bins=np.arange(0,20000+bw,bw)\n",
    "\n",
    "\n",
    "# df_em['merge_area'] = df_em.apply(lambda row: merged_area(row.em_bboxes_r), axis=1)\n",
    "df_em_with['merge_area']    = df_em_with.apply(   lambda row: sum_area(row), axis=1)\n",
    "df_em_with_no['merge_area'] = df_em_with_no.apply(lambda row: sum_area(row), axis=1)\n",
    "\n",
    "fig,ax0=plt.subplots(1,1,figsize=(8,6))\n",
    "\n",
    "ax0.hist(df_em_with['merge_area'], bins=bins, alpha=0.6, label='Img with electron')\n",
    "ax0.hist(df_em_with_no['merge_area'], bins=bins, alpha=0.6, label='Img w/o electron')\n",
    "\n",
    "# ax0.set_title(dic_titles[key]+' Area')\n",
    "ax0.set_title('Electron ROIS Area')\n",
    "ax0.legend(fontsize=14)\n",
    "ax0.grid()\n",
    "plt.plot()"
   ]
  },
  {
   "cell_type": "code",
   "execution_count": null,
   "metadata": {
    "collapsed": false,
    "scrolled": true
   },
   "outputs": [],
   "source": [
    "for key in keys:\n",
    "#     exec('scores=df[df.%s>0]'%key)\n",
    "#     values_with=scores[dic_iou[key]].values\n",
    "    \n",
    "#     exec('scores=df[df.%s==0]'%key)\n",
    "#     values_with_no=scores[dic_iou[key]].values\n",
    "    \n",
    "    print dic_npars[key]\n",
    "    if key=='true_n_ga':continue\n",
    "    if key=='true_n_pi': continue\n",
    "    exec('df_em_with   =df[(df.%s>0 ) & (df.%s>0)]'%(key, dic_npars[key]))\n",
    "    exec('df_em_with_no=df[(df.%s==0) & (df.%s>0)]'%(key, dic_npars[key]))\n",
    "\n",
    "    bw=1000\n",
    "    bins=np.arange(0,20000+bw,bw)\n",
    "\n",
    "    \n",
    "    # df_em['merge_area'] = df_em.apply(lambda row: merged_area(row.em_bboxes_r), axis=1)\n",
    "    df_em_with['merge_area']    = df_em_with.apply(   lambda row: sum_area(row), axis=1)\n",
    "    df_em_with_no['merge_area'] = df_em_with_no.apply(lambda row: sum_area(row), axis=1)\n",
    "\n",
    "    fig,ax0=plt.subplots(1,1,figsize=(8,6))\n",
    "\n",
    "    ax0.hist(df_em_with['merge_area'], bins=bins, alpha=0.6, label='Img with electron')\n",
    "    ax0.hist(df_em_with_no['merge_area'], bins=bins, alpha=0.6, label='Img w/o electron')\n",
    "\n",
    "    ax0.set_title(dic_titles[key]+' Area')\n",
    "#     ax0.set_title('Electron ROIS Area')\n",
    "    ax0.legend(fontsize=14)\n",
    "    ax0.grid()\n",
    "plt.plot()"
   ]
  },
  {
   "cell_type": "code",
   "execution_count": null,
   "metadata": {
    "collapsed": false
   },
   "outputs": [],
   "source": [
    "# import numpy as np\n",
    "\n",
    "# df_em_with   =df[(df.true_n_em>0 ) & (df.reco_n_em>0)]\n",
    "# df_em_with_no=df[(df.true_n_em==0) & (df.reco_n_em>0)]\n",
    "\n",
    "# bw=2000\n",
    "# bins=np.arange(0,40000+bw,bw)\n",
    "\n",
    "\n",
    "# # df_em['merge_area'] = df_em.apply(lambda row: merged_area(row.em_bboxes_r), axis=1)\n",
    "# df_em_with['merge_area']    = df_em_with.apply(   lambda row: sum_area(row), axis=1)\n",
    "# df_em_with_no['merge_area'] = df_em_with_no.apply(lambda row: sum_area(row), axis=1)\n",
    "\n",
    "# fig,(ax0,ax1)=plt.subplots(1,2,figsize=(12,6))\n",
    "\n",
    "# ax0.hist(df_em_with['merge_area'], bins=bins)\n",
    "# ax1.hist(df_em_with_no['merge_area'], bins=bins)\n",
    "\n",
    "# ax0.set_title(dic_titles[key]+' Area')\n",
    "# ax1.set_title(dic_titles[key]+' Area')\n",
    "\n",
    "# plt.plot()"
   ]
  },
  {
   "cell_type": "code",
   "execution_count": null,
   "metadata": {
    "collapsed": false
   },
   "outputs": [],
   "source": [
    "df_em_with_no.columns"
   ]
  },
  {
   "cell_type": "code",
   "execution_count": null,
   "metadata": {
    "collapsed": false
   },
   "outputs": [],
   "source": [
    "df_em_with_no.iloc[1]"
   ]
  },
  {
   "cell_type": "code",
   "execution_count": null,
   "metadata": {
    "collapsed": true
   },
   "outputs": [],
   "source": []
  },
  {
   "cell_type": "code",
   "execution_count": null,
   "metadata": {
    "collapsed": true
   },
   "outputs": [],
   "source": []
  },
  {
   "cell_type": "code",
   "execution_count": null,
   "metadata": {
    "collapsed": false
   },
   "outputs": [],
   "source": [
    "entry=5\n",
    "bbs_t=output.iloc[entry].em_bboxes_t\n",
    "print bbs_t\n",
    "bbs_r=output.iloc[entry].em_bboxes_r\n",
    "print bbs_r"
   ]
  },
  {
   "cell_type": "code",
   "execution_count": null,
   "metadata": {
    "collapsed": true
   },
   "outputs": [],
   "source": [
    "df_m2['e_gamma']=df_m2.apply(lambda row: fill_pred(row), axis=1)"
   ]
  },
  {
   "cell_type": "code",
   "execution_count": null,
   "metadata": {
    "collapsed": true
   },
   "outputs": [],
   "source": [
    "def merge_bbs(bbs):\n",
    "    b=min([bb[0] for bb in bbs])\n",
    "    t=max([bb[2] for bb in bbs])\n",
    "    l=min([bb[1] for bb in bbs])\n",
    "    r=max([bb[3] for bb in bbs])\n",
    "    return [b,l,t,r]\n",
    "\n",
    "def merged_area(row):\n",
    "    bbs=row.em_bboxes_r\n",
    "    scores=row.em_scores\n",
    "    b,l,t,r=merge_bbs(bbs)\n",
    "    return (t-b)*(r-l)\n",
    "\n",
    "def sum_area(row):\n",
    "    bbs=row.em_bboxes_r\n",
    "    tot_area=0\n",
    "    for bb in bbs:\n",
    "        b=bb[0]\n",
    "        l=bb[1]\n",
    "        t=bb[2]\n",
    "        r=bb[3]\n",
    "        area=(t-b)*(r-l)\n",
    "        tot_area+=area\n",
    "    return tot_area\n",
    "\n",
    "# def merged_area(row):\n",
    "#     bbs=row.em_bboxes_r\n",
    "#     b,l,t,r=merge_bbs(bbs)\n",
    "#     return (t-b)*(r-l)\n"
   ]
  },
  {
   "cell_type": "code",
   "execution_count": null,
   "metadata": {
    "collapsed": false
   },
   "outputs": [],
   "source": [
    "print merge_bbs(bbs_t)\n",
    "print merge_bbs(bbs_r)"
   ]
  },
  {
   "cell_type": "code",
   "execution_count": null,
   "metadata": {
    "collapsed": true
   },
   "outputs": [],
   "source": [
    "def IOU(bbs_t, bbs_r):\n",
    "    bbs_t=merge_bbs(bbs_t)\n",
    "    bbs_r=merge_bbs(bbs_r)\n",
    "    tot_b=min(bbs_t[0], bbs_r[0])\n",
    "    tot_t=max(bbs_t[2], bbs_r[2])\n",
    "    tot_l=min(bbs_t[1], bbs_r[1])\n",
    "    tot_r=max(bbs_t[3], bbs_r[3])\n",
    "\n",
    "    int_b=max(bbs_t[0], bbs_r[0])\n",
    "    int_t=min(bbs_t[2], bbs_r[2])\n",
    "    int_l=max(bbs_t[1], bbs_r[1])\n",
    "    int_r=min(bbs_t[3], bbs_r[3])\n",
    "    \n",
    "    tot_area=(tot_r-tot_l)*(tot_t-tot_b)\n",
    "    int_area=(int_r-int_l)*(int_t-int_b)\n",
    "    \n",
    "    return(int_area)/(tot_area)"
   ]
  },
  {
   "cell_type": "code",
   "execution_count": null,
   "metadata": {
    "collapsed": false
   },
   "outputs": [],
   "source": [
    "IOU(bbs_t, bbs_r)"
   ]
  },
  {
   "cell_type": "code",
   "execution_count": null,
   "metadata": {
    "collapsed": true
   },
   "outputs": [],
   "source": []
  }
 ],
 "metadata": {
  "kernelspec": {
   "display_name": "Python 2",
   "language": "python",
   "name": "python2"
  },
  "language_info": {
   "codemirror_mode": {
    "name": "ipython",
    "version": 2
   },
   "file_extension": ".py",
   "mimetype": "text/x-python",
   "name": "python",
   "nbconvert_exporter": "python",
   "pygments_lexer": "ipython2",
   "version": "2.7.12"
  }
 },
 "nbformat": 4,
 "nbformat_minor": 2
}
